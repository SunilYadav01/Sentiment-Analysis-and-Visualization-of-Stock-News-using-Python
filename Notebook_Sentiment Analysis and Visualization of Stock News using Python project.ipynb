{
 "cells": [
  {
   "cell_type": "markdown",
   "id": "61f7ec75",
   "metadata": {},
   "source": [
    "### Sentiment Analysis and Visualization of Stock News"
   ]
  },
  {
   "cell_type": "markdown",
   "id": "354e6a9c",
   "metadata": {},
   "source": [
    "##### importing required modules"
   ]
  },
  {
   "cell_type": "code",
   "execution_count": 1,
   "id": "6df22f30",
   "metadata": {},
   "outputs": [],
   "source": [
    "from urllib.request import urlopen, Request\n",
    "from bs4 import BeautifulSoup\n",
    "from nltk.sentiment.vader import SentimentIntensityAnalyzer\n",
    "import pandas as pd\n",
    "import matplotlib.pyplot as plt"
   ]
  },
  {
   "cell_type": "code",
   "execution_count": 2,
   "id": "858859a5",
   "metadata": {},
   "outputs": [],
   "source": [
    "#getting the finviz url\n",
    "finviz_url = 'https://finviz.com/quote.ashx?t='"
   ]
  },
  {
   "cell_type": "code",
   "execution_count": 3,
   "id": "cdbf9b0c",
   "metadata": {},
   "outputs": [],
   "source": [
    "#tickers for parsing\n",
    "tickers = ['AMZN', 'GOOG', 'FB']"
   ]
  },
  {
   "cell_type": "code",
   "execution_count": 4,
   "id": "76d35ea3",
   "metadata": {},
   "outputs": [],
   "source": [
    "news_tables = {}\n",
    "for ticker in tickers:\n",
    "    url = finviz_url + ticker\n",
    "    \n",
    "    req = Request(url=url, headers={'user-agent': 'my-app'}) #sending request to finviz.com\n",
    "    response = urlopen(req)\n",
    "    \n",
    "    html = BeautifulSoup(response, 'html') #parsing the html code and getting it in a BeautifulSoup\n",
    "    news_table = html.find(id='news-table')\n",
    "    news_tables[ticker] = news_table"
   ]
  },
  {
   "cell_type": "markdown",
   "id": "2a8604e8",
   "metadata": {},
   "source": [
    "##### news_tables dictionary includes just the tables of the results from the web page"
   ]
  },
  {
   "cell_type": "code",
   "execution_count": 5,
   "id": "8d3b1ad4",
   "metadata": {},
   "outputs": [
    {
     "name": "stdout",
     "output_type": "stream",
     "text": [
      "Nov-26-21 07:30AM   This Popular Beverage Maker Took a Big Step Toward Larger Gains for Its Investors\n",
      "07:09AM   This is the No.1 thing to buy on Black Friday\n",
      "07:07AM   3 Buffett Stocks to Buy Hand Over Fist Before November Ends\n",
      "06:35AM   The absolute best deals on Black Friday\n",
      "05:30AM   Extinction Rebellion targets Amazon warehouses in Black Friday blockade\n",
      "04:42AM   Black Friday sales: Shoppers warned against buying these dangerous dud products\n",
      "02:44AM   Amazon's Black Friday greeted by climate activists, strikes in Europe\n",
      "02:38AM   UPDATE 4-Amazon's Black Friday greeted by climate activists, strikes in Europe\n",
      "Nov-25-21 03:21PM   Pakistan e-commerce platform Daraz aims to beef up as Amazon eyes market\n",
      "01:11PM   German Union to Call Workers' Strike: Will It Hurt Amazon (AMZN)?\n",
      "11:16AM   Pakistan e-commerce platform Daraz aims to beef up as Amazon eyes market\n",
      "10:30AM   Here's My Top Growth Stock To Buy Now\n",
      "08:45AM   2 Reasons dLocal Is My Top Buy Right Now\n",
      "08:35AM   Will Palantir Be a Trillion-Dollar Stock by 2040?\n",
      "Nov-24-21 11:12PM   'American Import': What Other Countries Think About Black Friday\n",
      "06:30PM   RPT-Amazon seeks to pause antitrust review of 2019 deal with India's Future, documents show\n",
      "05:45PM   Want a PS5? At Walmart, Amazon and Best Buy you may need to subscribe first\n",
      "05:24PM   Amazon loses physical retail VP after 14 years with the company\n",
      "04:02PM   Is Amazon Stock A Buy Right Now As Epic Battle With Walmart Escalates\n",
      "01:25PM   Amazon seeks to pause antitrust review of 2019 deal with India's Future, documents show\n",
      "01:08PM   Loews Hotels pitches new support facility in Orange County\n",
      "01:05PM   Texas Put Up Millions to Lure a Samsung Plant and Won. Will It Pay Off?\n",
      "01:05PM   Thanksgiving box office: Vaccines for kids will play a major role in family movie attendance, analyst says\n",
      "01:05PM   Amazon workers plan Black Friday protests worldwide\n",
      "12:28PM   UPDATE 1-German union urges Amazon workers to strike on \"Black Friday\"\n",
      "11:59AM   American families throw out $1,500 in uneaten groceries every year as food insecurity worsens  heres how to reduce waste this Thanksgiving\n",
      "11:15AM   2 Dividend Aristocrats That Can Help Bankroll Your Retirement\n",
      "11:13AM   Supply chain environment 'most dynamic I've ever seen,' Pure Storage CEO says\n",
      "11:08AM   10 Latest Stock Picks of Billionaire Ray Dalio\n",
      "10:28AM   Amazon 'Well-Positioned' Going into the Holidays, JPMorgan Says\n",
      "10:02AM   This Tech Stock Is Down 65% This Year. Here's Why Now May Be the Time to Buy Shares\n",
      "09:53AM   Nutanix (NTNX) Q1 Loss Narrower Than Expected, Revenues Beat\n",
      "09:44AM   Dow Jones Slides As Yields Rise; Rivian, Tesla Skid, While Gap, Nordstrom Plunge On Earnings\n",
      "09:43AM   Got $5,000? 3 Stocks to Hold for the Next 20 Years\n",
      "09:00AM   Could This Be the Best Way To Invest In the Metaverse?\n",
      "08:13AM   3 Reasons to Sell Rivian Automotive\n",
      "07:33AM   Top Tech Stock Picks of Amir Mokaris Emerson Point Capital\n",
      "07:30AM   3 Reasons to Buy Ankr\n",
      "07:20AM   Want 10X Returns? 1 Growth Stock to Buy Right Now\n",
      "07:15AM   Better Fintech Stock: PayPal or Affirm\n",
      "06:56AM   Did the Lucid and Rivian Bubble Burst Just Signal a Stock Market Top?\n",
      "06:50AM   These 2 Cathie Wood Stocks Are Screaming Buys\n",
      "06:09AM   3 Reasons to Buy Siacoin\n",
      "05:00AM   As streamers pare down their subscriptions, Disney+ may be the most at risk\n",
      "03:20AM   Lights, camera.. anyone? Film studios can't get the crew\n",
      "03:00AM   FOCUS-Lights, camera.. anyone? Film studios can't get the crew\n",
      "01:38AM   India Lawmakers Weigh New Regulator to Oversee Facebook, Twitter\n",
      "01:14AM   AWS hires global channel chief as outgoing leader shifts to retail role\n",
      "Nov-23-21 08:02PM   Samsung Plans $17 Billion Texas Chip Plant, Creating 2,000 Jobs\n",
      "05:23PM   Amazon agrees to pay $2.5M after Washington state investigation into pesticide sales\n",
      "05:18PM   Amazon: Set Up to Deliver Strong Multi-Year Profitability, Says Analyst\n",
      "05:04PM   Black Friday: There will be 'fewer markdowns' amid supply chains issues, analyst explains\n",
      "04:44PM   Retail stocks: Nordstrom, Gap plummet after earnings fall short\n",
      "04:37PM   10 Stocks that Tripled in 2021\n",
      "02:08PM   Two ways Amazon plans to reduce the waste it creates\n",
      "01:26PM   Full Harvest Founder: I was frustrated that they were selling $13 green juices'\n",
      "01:21PM   Microsoft Receives Cloud Revenue Boost From Pentagon\n",
      "01:12PM   Amazon's (AMZN) AWS Clientele Expands With adidas' Selection\n",
      "12:44PM   Why Micron Stock Popped Today\n",
      "12:00PM   Introducing IMDb Is Obsesseda New Podcast Exploring the Most Binge-Worthy TV Show or Movie Each Week\n",
      "11:53AM   Theres an incredible sale on Apple Airpods Pro now at $90 off  and 4 other Apple sales to consider now\n",
      "11:15AM   Macy's Considering Spinning Off E-Commerce Business\n",
      "10:23AM   Why is a third H-1B lottery under way?\n",
      "10:12AM   Market check: Stocks mixed as tech remains under pressure, crude oil dips\n",
      "09:53AM   Dow Jones Rises; Tesla Rival Surges On Strong Sales; Best Buy, Zoom Plunge On Earnings\n",
      "08:05AM   Amazon Stock: Still a Buy?\n",
      "08:02AM   Amazon's takeover of James Bond studio will raise streaming charges, unions warn\n",
      "08:00AM   Arrow (ARW) Launches PSA Certified Kit for IoT Device Developers\n",
      "07:32AM   1 E-Commerce Stock I Can't Buy Enough Of\n",
      "07:22AM   Dow Jones Futures Fall: Stock Market Rally Diverges As Tech Stocks Sell Off; Zoom Dives Despite Earnings Beat\n",
      "07:20AM   1 Disruptive AI Stock To Put on Your Watchlist\n",
      "06:36AM   Why I'll Invest in Crypto, but Not for Retirement\n",
      "05:31AM   EU Lawmakers Pass Strict New Rules Affecting Big U.S. Tech\n",
      "04:29AM   Black Friday: 9 out of 10 deals same price or cheaper ahead of sales, Which? finds\n",
      "03:16AM   UPDATE 2-Amazon and Apple handed $225 mln in Italian antitrust fines\n",
      "03:04AM   Stripe Happy to Stay Private After Reaching $95 Billion Value\n",
      "02:42AM   Amazon and Apple handed $225 million in Italian antitrust fines\n",
      "02:12AM   Italy's antitrust fines Amazon, Apple more than 200 mln euros for alleged collusion\n",
      "12:56AM   UPDATE 1-Employees of India's Future Retail urge top court to clear asset sale in Amazon dispute\n",
      "12:32AM   Employees of India's Future Retail urge top court to clear asset sale in Amazon dispute\n",
      "12:01AM   Richemont Selects AWS as Its Preferred Cloud Provider to Drive Product Innovation\n",
      "Nov-22-21 06:01PM   Why Rivian Stock Dropped Today\n",
      "04:26PM   Kevin O'Leary says the 'real opportunity' for Bitcoin will come from this overlooked group of investors  but he's still a big fan of blue chip dividend stocks\n",
      "04:07PM   Uber has entered the weed market\n",
      "03:16PM   Billionaire Leon Cooperman Is Selling These 10 Stocks\n",
      "01:11PM   Stocks on the move: Amazon, Rivian, Blink, Airbnb, cannabis stocks, semiconductors, and more\n",
      "12:18PM   Union group says U.S. should reject Amazon's plan to buy MGM\n",
      "11:48AM   Jerome Powell still being Fed chief is bullish for stocks: portfolio manager\n",
      "11:11AM   Whole Foods Chicken Certifier Upends Market With New Breed Rules\n",
      "10:59AM   Fed Chair Powell renomination 'is good news for long duration growth assets,' analyst says\n",
      "10:44AM   Bezos donates $100 mln to Obama foundation in honor of congressman John Lewis\n",
      "10:32AM   Apple encourages employees to discuss wages, working conditions\n",
      "10:32AM   Better Buy: Rivian or Every Other EV Stock?\n",
      "09:36AM   2 Top E-Commerce Stocks to Buy for the Long Haul\n",
      "09:00AM   Taylor Swift Releases New Version of \"Christmas Tree Farm,\" Streaming Only on Amazon Music\n",
      "08:55AM   Is Snowflake Stock A Buy? Data Analytics Specialist Rides Cloud Computing Wave\n",
      "08:48AM   Analysis-Visa's Amazon spat shows power is shifting to retailers in fee battle\n",
      "08:21AM   How Risky Is Simon Property Group?\n",
      "08:00AM   Europe Finally Set to Vote on How to Control Biggest Tech Firms\n",
      "07:45AM   3 Breakout Growth Stocks to Buy Right Now\n"
     ]
    }
   ],
   "source": [
    "#example of parsing the text of articles title from table row and also the date and time\n",
    "amzn_data = news_tables['AMZN']\n",
    "amzn_rows = amzn_data.findAll('tr')\n",
    "\n",
    "for index, row in enumerate(amzn_rows):\n",
    "    title = row.a.text\n",
    "    timestamp = row.td.text\n",
    "    \n",
    "    print(timestamp + \" \" + title)"
   ]
  },
  {
   "cell_type": "markdown",
   "id": "184fbd72",
   "metadata": {},
   "source": [
    "#### Taking the dataset and parsing it in order to get the ticker, date, time and title"
   ]
  },
  {
   "cell_type": "code",
   "execution_count": 6,
   "id": "dc0abec7",
   "metadata": {},
   "outputs": [],
   "source": [
    "#implementing data scrapping from the website\n",
    "parsed_data = []\n",
    "\n",
    "for ticker, news_table in news_tables.items():\n",
    "    \n",
    "    for row in news_table.findAll('tr'):\n",
    "        \n",
    "        title = row.a.get_text()\n",
    "        date_data = row.td.text.split(' ')\n",
    "        \n",
    "        if len(date_data) == 1:    #implies we only have time stamp\n",
    "            time = date[0]\n",
    "        else:\n",
    "            date = date_data[0]\n",
    "            time = date_data[1]\n",
    "       \n",
    "        parsed_data.append([ticker,date, time, title])\n",
    "        "
   ]
  },
  {
   "cell_type": "markdown",
   "id": "b8e2b946",
   "metadata": {},
   "source": [
    "## Applying sentiment analysis"
   ]
  },
  {
   "cell_type": "code",
   "execution_count": 7,
   "id": "9f842068",
   "metadata": {},
   "outputs": [
    {
     "data": {
      "text/html": [
       "<div>\n",
       "<style scoped>\n",
       "    .dataframe tbody tr th:only-of-type {\n",
       "        vertical-align: middle;\n",
       "    }\n",
       "\n",
       "    .dataframe tbody tr th {\n",
       "        vertical-align: top;\n",
       "    }\n",
       "\n",
       "    .dataframe thead th {\n",
       "        text-align: right;\n",
       "    }\n",
       "</style>\n",
       "<table border=\"1\" class=\"dataframe\">\n",
       "  <thead>\n",
       "    <tr style=\"text-align: right;\">\n",
       "      <th></th>\n",
       "      <th>ticker</th>\n",
       "      <th>date</th>\n",
       "      <th>time</th>\n",
       "      <th>title</th>\n",
       "    </tr>\n",
       "  </thead>\n",
       "  <tbody>\n",
       "    <tr>\n",
       "      <th>0</th>\n",
       "      <td>AMZN</td>\n",
       "      <td>Nov-26-21</td>\n",
       "      <td>07:30AM</td>\n",
       "      <td>This Popular Beverage Maker Took a Big Step To...</td>\n",
       "    </tr>\n",
       "    <tr>\n",
       "      <th>1</th>\n",
       "      <td>AMZN</td>\n",
       "      <td>Nov-26-21</td>\n",
       "      <td>N</td>\n",
       "      <td>This is the No.1 thing to buy on Black Friday</td>\n",
       "    </tr>\n",
       "    <tr>\n",
       "      <th>2</th>\n",
       "      <td>AMZN</td>\n",
       "      <td>Nov-26-21</td>\n",
       "      <td>N</td>\n",
       "      <td>3 Buffett Stocks to Buy Hand Over Fist Before ...</td>\n",
       "    </tr>\n",
       "    <tr>\n",
       "      <th>3</th>\n",
       "      <td>AMZN</td>\n",
       "      <td>Nov-26-21</td>\n",
       "      <td>N</td>\n",
       "      <td>The absolute best deals on Black Friday</td>\n",
       "    </tr>\n",
       "    <tr>\n",
       "      <th>4</th>\n",
       "      <td>AMZN</td>\n",
       "      <td>Nov-26-21</td>\n",
       "      <td>N</td>\n",
       "      <td>Extinction Rebellion targets Amazon warehouses...</td>\n",
       "    </tr>\n",
       "  </tbody>\n",
       "</table>\n",
       "</div>"
      ],
      "text/plain": [
       "  ticker       date       time  \\\n",
       "0   AMZN  Nov-26-21  07:30AM     \n",
       "1   AMZN  Nov-26-21          N   \n",
       "2   AMZN  Nov-26-21          N   \n",
       "3   AMZN  Nov-26-21          N   \n",
       "4   AMZN  Nov-26-21          N   \n",
       "\n",
       "                                               title  \n",
       "0  This Popular Beverage Maker Took a Big Step To...  \n",
       "1      This is the No.1 thing to buy on Black Friday  \n",
       "2  3 Buffett Stocks to Buy Hand Over Fist Before ...  \n",
       "3            The absolute best deals on Black Friday  \n",
       "4  Extinction Rebellion targets Amazon warehouses...  "
      ]
     },
     "execution_count": 7,
     "metadata": {},
     "output_type": "execute_result"
    }
   ],
   "source": [
    "#creating a data frame to store our parsed data\n",
    "df = pd.DataFrame(parsed_data, columns=['ticker', 'date', 'time', 'title'])\n",
    "df.head()"
   ]
  },
  {
   "cell_type": "markdown",
   "id": "f6bde0f7",
   "metadata": {},
   "source": [
    "##### Applying polarity score to the title"
   ]
  },
  {
   "cell_type": "code",
   "execution_count": 8,
   "id": "b10a3f38",
   "metadata": {},
   "outputs": [
    {
     "data": {
      "text/html": [
       "<div>\n",
       "<style scoped>\n",
       "    .dataframe tbody tr th:only-of-type {\n",
       "        vertical-align: middle;\n",
       "    }\n",
       "\n",
       "    .dataframe tbody tr th {\n",
       "        vertical-align: top;\n",
       "    }\n",
       "\n",
       "    .dataframe thead th {\n",
       "        text-align: right;\n",
       "    }\n",
       "</style>\n",
       "<table border=\"1\" class=\"dataframe\">\n",
       "  <thead>\n",
       "    <tr style=\"text-align: right;\">\n",
       "      <th></th>\n",
       "      <th>ticker</th>\n",
       "      <th>date</th>\n",
       "      <th>time</th>\n",
       "      <th>title</th>\n",
       "      <th>compound</th>\n",
       "    </tr>\n",
       "  </thead>\n",
       "  <tbody>\n",
       "    <tr>\n",
       "      <th>0</th>\n",
       "      <td>AMZN</td>\n",
       "      <td>Nov-26-21</td>\n",
       "      <td>07:30AM</td>\n",
       "      <td>This Popular Beverage Maker Took a Big Step To...</td>\n",
       "      <td>0.6369</td>\n",
       "    </tr>\n",
       "    <tr>\n",
       "      <th>1</th>\n",
       "      <td>AMZN</td>\n",
       "      <td>Nov-26-21</td>\n",
       "      <td>N</td>\n",
       "      <td>This is the No.1 thing to buy on Black Friday</td>\n",
       "      <td>0.0000</td>\n",
       "    </tr>\n",
       "    <tr>\n",
       "      <th>2</th>\n",
       "      <td>AMZN</td>\n",
       "      <td>Nov-26-21</td>\n",
       "      <td>N</td>\n",
       "      <td>3 Buffett Stocks to Buy Hand Over Fist Before ...</td>\n",
       "      <td>0.4939</td>\n",
       "    </tr>\n",
       "    <tr>\n",
       "      <th>3</th>\n",
       "      <td>AMZN</td>\n",
       "      <td>Nov-26-21</td>\n",
       "      <td>N</td>\n",
       "      <td>The absolute best deals on Black Friday</td>\n",
       "      <td>0.6369</td>\n",
       "    </tr>\n",
       "    <tr>\n",
       "      <th>4</th>\n",
       "      <td>AMZN</td>\n",
       "      <td>Nov-26-21</td>\n",
       "      <td>N</td>\n",
       "      <td>Extinction Rebellion targets Amazon warehouses...</td>\n",
       "      <td>0.0516</td>\n",
       "    </tr>\n",
       "  </tbody>\n",
       "</table>\n",
       "</div>"
      ],
      "text/plain": [
       "  ticker       date       time  \\\n",
       "0   AMZN  Nov-26-21  07:30AM     \n",
       "1   AMZN  Nov-26-21          N   \n",
       "2   AMZN  Nov-26-21          N   \n",
       "3   AMZN  Nov-26-21          N   \n",
       "4   AMZN  Nov-26-21          N   \n",
       "\n",
       "                                               title  compound  \n",
       "0  This Popular Beverage Maker Took a Big Step To...    0.6369  \n",
       "1      This is the No.1 thing to buy on Black Friday    0.0000  \n",
       "2  3 Buffett Stocks to Buy Hand Over Fist Before ...    0.4939  \n",
       "3            The absolute best deals on Black Friday    0.6369  \n",
       "4  Extinction Rebellion targets Amazon warehouses...    0.0516  "
      ]
     },
     "execution_count": 8,
     "metadata": {},
     "output_type": "execute_result"
    }
   ],
   "source": [
    "vader = SentimentIntensityAnalyzer()\n",
    "\n",
    "f = lambda title: vader.polarity_scores(title)['compound']\n",
    "df['compound'] = df['title'].apply(f) #creating a new column with compund polarity score of each title\n",
    "\n",
    "df.head()"
   ]
  },
  {
   "cell_type": "markdown",
   "id": "b847ff35",
   "metadata": {},
   "source": [
    "## Visualization of the data"
   ]
  },
  {
   "cell_type": "code",
   "execution_count": 9,
   "id": "e3c2da22",
   "metadata": {},
   "outputs": [
    {
     "name": "stdout",
     "output_type": "stream",
     "text": [
      "                   compound\n",
      "ticker date                \n",
      "AMZN   2021-11-22  0.153795\n",
      "       2021-11-23  0.109133\n",
      "       2021-11-24  0.111459\n",
      "       2021-11-25  0.098483\n",
      "       2021-11-26  0.109850\n",
      "FB     2021-11-18  0.099800\n",
      "       2021-11-19  0.064181\n",
      "       2021-11-20  0.464750\n",
      "       2021-11-21  0.296900\n",
      "       2021-11-22  0.210629\n",
      "       2021-11-23 -0.007860\n",
      "       2021-11-24  0.118188\n",
      "       2021-11-25  0.252871\n",
      "       2021-11-26  0.262733\n",
      "GOOG   2021-11-19  0.179376\n",
      "       2021-11-20  0.412860\n",
      "       2021-11-21  0.228700\n",
      "       2021-11-22  0.143433\n",
      "       2021-11-23  0.079635\n",
      "       2021-11-24  0.111873\n",
      "       2021-11-25  0.160675\n",
      "       2021-11-26  0.088800\n"
     ]
    },
    {
     "data": {
      "text/plain": [
       "<Figure size 720x576 with 0 Axes>"
      ]
     },
     "metadata": {},
     "output_type": "display_data"
    }
   ],
   "source": [
    "df['date'] = pd.to_datetime(df.date).dt.date   #converting date from normal string to date time format\n",
    "\n",
    "plt.figure(figsize=(10, 8))\n",
    "\n",
    "mean_df = df.groupby(['ticker', 'date']).mean()   #getting mean of all compound values of every ticker for a particular date\n",
    "\n",
    "print(mean_df)"
   ]
  },
  {
   "cell_type": "code",
   "execution_count": 10,
   "id": "fd501c3a",
   "metadata": {},
   "outputs": [
    {
     "name": "stdout",
     "output_type": "stream",
     "text": [
      "ticker          AMZN        FB      GOOG\n",
      "date                                    \n",
      "2021-11-18       NaN  0.099800       NaN\n",
      "2021-11-19       NaN  0.064181  0.179376\n",
      "2021-11-20       NaN  0.464750  0.412860\n",
      "2021-11-21       NaN  0.296900  0.228700\n",
      "2021-11-22  0.153795  0.210629  0.143433\n",
      "2021-11-23  0.109133 -0.007860  0.079635\n",
      "2021-11-24  0.111459  0.118188  0.111873\n",
      "2021-11-25  0.098483  0.252871  0.160675\n",
      "2021-11-26  0.109850  0.262733  0.088800\n"
     ]
    }
   ],
   "source": [
    "#unstacking the data\n",
    "mean_df = mean_df.unstack()\n",
    "mean_df = mean_df.xs('compound', axis='columns').transpose()\n",
    "print(mean_df)"
   ]
  },
  {
   "cell_type": "code",
   "execution_count": 11,
   "id": "4dbc009d",
   "metadata": {},
   "outputs": [
    {
     "data": {
      "image/png": "[encoded data removed]",
      "text/plain": [
       "<Figure size 432x288 with 1 Axes>"
      ]
     },
     "metadata": {
      "needs_background": "light"
     },
     "output_type": "display_data"
    }
   ],
   "source": [
    "#plotting\n",
    "mean_df.plot(kind='bar')\n",
    "plt.show()"
   ]
  },
  {
   "cell_type": "markdown",
   "id": "967722be",
   "metadata": {},
   "source": [
    "The above chart clearly depicts sentiments of people for different brands and compares them on a particular date. For example on 2021-11-24 for Amazon and Google there were a lot of positive news but facebook seemed to get slight negative sentiments on that particular day as compared to other two."
   ]
  }
 ],
 "metadata": {
  "kernelspec": {
   "display_name": "Python 3 (ipykernel)",
   "language": "python",
   "name": "python3"
  },
  "language_info": {
   "codemirror_mode": {
    "name": "ipython",
    "version": 3
   },
   "file_extension": ".py",
   "mimetype": "text/x-python",
   "name": "python",
   "nbconvert_exporter": "python",
   "pygments_lexer": "ipython3",
   "version": "3.9.7"
  }
 },
 "nbformat": 4,
 "nbformat_minor": 5
}
